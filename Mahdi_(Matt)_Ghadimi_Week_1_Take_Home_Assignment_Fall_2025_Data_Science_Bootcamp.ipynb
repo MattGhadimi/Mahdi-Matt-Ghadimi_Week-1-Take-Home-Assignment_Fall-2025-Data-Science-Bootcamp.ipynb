{
  "nbformat": 4,
  "nbformat_minor": 0,
  "metadata": {
    "colab": {
      "provenance": []
    },
    "kernelspec": {
      "name": "python3",
      "display_name": "Python 3"
    },
    "language_info": {
      "name": "python"
    }
  },
  "cells": [
    {
      "cell_type": "markdown",
      "source": [
        "# Hello!  \n",
        "\n",
        "I'm Mahdi (Matt) Ghadimi  \n",
        "N14369173  \n",
        "mg8786@nyu.edu  \n",
        "\n",
        "This notebook contains my Week 1 Take-Home Assignment for the Fall 2025 Data Science Bootcamp.  \n",
        "\n",
        "Mahdi (Matt) Ghadimi_Week 1 Take-Home Assignment_Fall 2025 Data Science Bootcamp.ipynb\n"
      ],
      "metadata": {
        "id": "YXl8nPGgqwi_"
      }
    },
    {
      "cell_type": "markdown",
      "metadata": {
        "id": "ezlXaH5e2up_"
      },
      "source": [
        "# Take home exercises\n",
        "\n"
      ]
    },
    {
      "cell_type": "markdown",
      "source": [
        "1. Write a program that takes a word as an input and print the number of vowels in the word."
      ],
      "metadata": {
        "id": "NNvaMpxmQPWR"
      }
    },
    {
      "cell_type": "code",
      "source": [
        "# get input from the user\n",
        "word = input(\"Enter a word: \")\n",
        "\n",
        "# initialize a counter for vowels\n",
        "vowel_count = 0\n",
        "\n",
        "# define vowels\n",
        "vowels = \"aeiouAEIOU\"\n",
        "\n",
        "# count vowels in the word\n",
        "for char in word:\n",
        "    if char in vowels:\n",
        "        vowel_count += 1\n",
        "\n",
        "# print the result\n",
        "print(\"Number of vowels in the word:\", vowel_count)"
      ],
      "metadata": {
        "colab": {
          "base_uri": "https://localhost:8080/"
        },
        "id": "jSvBYwjZQSmN",
        "outputId": "764ae6dd-6745-4a8b-eb5a-2729d465930e"
      },
      "execution_count": 1,
      "outputs": [
        {
          "output_type": "stream",
          "name": "stdout",
          "text": [
            "Enter a word: Matt Ghadimi\n",
            "Number of vowels in the word: 4\n"
          ]
        }
      ]
    },
    {
      "cell_type": "markdown",
      "source": [
        "2. Iterate through the following list of animals and print each one in all caps.\n",
        "\n",
        "  animals=['tiger', 'elephant', 'monkey', 'zebra', 'panther']"
      ],
      "metadata": {
        "id": "gxfTqbZZQS3f"
      }
    },
    {
      "cell_type": "code",
      "source": [
        "animals = ['tiger', 'elephant', 'monkey', 'zebra', 'panther']\n",
        "\n",
        "for animal in animals:\n",
        "    print(animal.upper())"
      ],
      "metadata": {
        "colab": {
          "base_uri": "https://localhost:8080/"
        },
        "id": "tSdnLqsbQXUs",
        "outputId": "04f15ec6-0ea6-4407-ec8a-f5d08717588f"
      },
      "execution_count": 2,
      "outputs": [
        {
          "output_type": "stream",
          "name": "stdout",
          "text": [
            "TIGER\n",
            "ELEPHANT\n",
            "MONKEY\n",
            "ZEBRA\n",
            "PANTHER\n"
          ]
        }
      ]
    },
    {
      "cell_type": "markdown",
      "source": [
        "3. Write a program that iterates from 1 to 20, printing each number and whether it's odd or even."
      ],
      "metadata": {
        "id": "imOpmKQEQWDP"
      }
    },
    {
      "cell_type": "code",
      "source": [
        "for number in range(1, 21):\n",
        "    if number % 2 == 0:\n",
        "        print(number, \"is even\")\n",
        "    else:\n",
        "        print(number, \"is odd\")"
      ],
      "metadata": {
        "colab": {
          "base_uri": "https://localhost:8080/"
        },
        "id": "LInKjVUhQV0n",
        "outputId": "75e2ddd4-b6d8-4975-871e-626cc26f9833"
      },
      "execution_count": 3,
      "outputs": [
        {
          "output_type": "stream",
          "name": "stdout",
          "text": [
            "1 is odd\n",
            "2 is even\n",
            "3 is odd\n",
            "4 is even\n",
            "5 is odd\n",
            "6 is even\n",
            "7 is odd\n",
            "8 is even\n",
            "9 is odd\n",
            "10 is even\n",
            "11 is odd\n",
            "12 is even\n",
            "13 is odd\n",
            "14 is even\n",
            "15 is odd\n",
            "16 is even\n",
            "17 is odd\n",
            "18 is even\n",
            "19 is odd\n",
            "20 is even\n"
          ]
        }
      ]
    },
    {
      "cell_type": "markdown",
      "source": [
        "4. Write a program to check if a string is a palindrome or not."
      ],
      "metadata": {
        "id": "Mb1gxaw5QZgH"
      }
    },
    {
      "cell_type": "code",
      "source": [
        "# get input from user\n",
        "word = input(\"Enter a word: \")\n",
        "\n",
        "# check if word is same forwards and backwards\n",
        "if word == word[::-1]:\n",
        "    print(word,\": is a palindrome\")\n",
        "else:\n",
        "    print(word,\": is not a palindrome\")"
      ],
      "metadata": {
        "colab": {
          "base_uri": "https://localhost:8080/"
        },
        "id": "DGOKBLl0QZFv",
        "outputId": "69d89f73-5d9c-41dd-c136-2471ee63dd26"
      },
      "execution_count": 6,
      "outputs": [
        {
          "output_type": "stream",
          "name": "stdout",
          "text": [
            "Enter a word: Matt Ghadimi\n",
            "Matt Ghadimi : is not a palindrome\n"
          ]
        }
      ]
    },
    {
      "cell_type": "markdown",
      "source": [
        "5. Write a function *sum_of_integers(a, b)* that takes two integers as input from the user and returns their sum. (optional)"
      ],
      "metadata": {
        "id": "3yQ1B6mbQcf_"
      }
    },
    {
      "cell_type": "code",
      "source": [
        "# get input from user\n",
        "num1 = int(input(\"Enter first integer: \"))\n",
        "num2 = int(input(\"Enter second integer: \"))\n",
        "\n",
        "# function to return the sum of two integers\n",
        "def sum_of_integers(a, b):\n",
        "    return a + b\n",
        "\n",
        "result = sum_of_integers(num1, num2)\n",
        "print(\"The sum is:\", result)"
      ],
      "metadata": {
        "colab": {
          "base_uri": "https://localhost:8080/"
        },
        "id": "ODekvBqZQczY",
        "outputId": "f8af35e2-2031-4717-a6ed-94cdea87e6af"
      },
      "execution_count": 8,
      "outputs": [
        {
          "output_type": "stream",
          "name": "stdout",
          "text": [
            "Enter first integer: 153\n",
            "Enter second integer: 147\n",
            "The sum is: 300\n"
          ]
        }
      ]
    },
    {
      "cell_type": "markdown",
      "metadata": {
        "id": "8BtJxyCP7MN2"
      },
      "source": [
        "## Additional Challenge - Books data challenge"
      ]
    },
    {
      "cell_type": "code",
      "execution_count": 9,
      "metadata": {
        "id": "7RbAd58HUDOc"
      },
      "outputs": [],
      "source": [
        "books = [\n",
        "    {\n",
        "        \"title\": \"The Great Gatsby\",\n",
        "        \"author\": \"F. Scott Fitzgerald\",\n",
        "        \"genre\": \"Fiction\",\n",
        "        \"rating\": 4.2\n",
        "    },\n",
        "    {\n",
        "        \"title\": \"To Kill a Mockingbird\",\n",
        "        \"author\": \"Harper Lee\",\n",
        "        \"genre\": \"Classic\",\n",
        "        \"rating\": 4.5\n",
        "    },\n",
        "    {\n",
        "        \"title\": \"1984\",\n",
        "        \"author\": \"George Orwell\",\n",
        "        \"genre\": \"Dystopian\",\n",
        "        \"rating\": 4.8\n",
        "    },\n",
        "    {\n",
        "        \"title\": \"Pride and Prejudice\",\n",
        "        \"author\": \"Jane Austen\",\n",
        "        \"genre\": \"Romance\",\n",
        "        \"rating\": 4.7\n",
        "    },\n",
        "    {\n",
        "        \"title\": \"Harry Potter and the Sorcerer's Stone\",\n",
        "        \"author\": \"J.K. Rowling\",\n",
        "        \"genre\": \"Fantasy\",\n",
        "        \"rating\": 4.9\n",
        "    },\n",
        "    {\n",
        "        \"title\": \"The Catcher in the Rye\",\n",
        "        \"author\": \"J.D. Salinger\",\n",
        "        \"genre\": \"Coming-of-age\",\n",
        "        \"rating\": 4.1\n",
        "    }\n",
        "]"
      ]
    },
    {
      "cell_type": "markdown",
      "metadata": {
        "id": "EiR5GmoY7VzW"
      },
      "source": [
        "1. Checking Book Ratings\n",
        "\n",
        "    Write a function `check_rating(book)` that takes a book dictionary and returns True if the rating is greater than 4.5, and False otherwise. Additionally, modify the function to return 'low' if the rating is less than or equal to 4.0, 'medium' if it's greater than 4.0 but less than or equal to 4.5, and 'high' if it's greater than 4.5."
      ]
    },
    {
      "cell_type": "code",
      "execution_count": 13,
      "metadata": {
        "id": "iCrAuL2JQCGJ"
      },
      "outputs": [],
      "source": [
        "# check if a book rating is greater than 4.5\n",
        "def check_rating(book):\n",
        "    rating = book[\"rating\"]\n",
        "\n",
        "\n",
        "\n",
        "\n",
        "    # return True if rating > 4.5, False otherwise\n",
        "    # return rating > 4.5\n",
        "\n",
        "    # categorize rating\n",
        "    if rating <= 4.0:\n",
        "        return 'low'\n",
        "    elif rating <= 4.5:\n",
        "        return 'medium'\n",
        "    else:\n",
        "        return 'high'"
      ]
    },
    {
      "cell_type": "code",
      "source": [
        "# Test function on all books\n",
        "for book in books:\n",
        "    print(f\"{book['title']}: {check_rating(book)}\")"
      ],
      "metadata": {
        "colab": {
          "base_uri": "https://localhost:8080/"
        },
        "id": "d84mZyCltkap",
        "outputId": "e8b77c6d-e83f-42ab-bc95-8b62d9c54f5a"
      },
      "execution_count": 14,
      "outputs": [
        {
          "output_type": "stream",
          "name": "stdout",
          "text": [
            "The Great Gatsby: medium\n",
            "To Kill a Mockingbird: medium\n",
            "1984: high\n",
            "Pride and Prejudice: high\n",
            "Harry Potter and the Sorcerer's Stone: high\n",
            "The Catcher in the Rye: medium\n"
          ]
        }
      ]
    },
    {
      "cell_type": "markdown",
      "source": [
        "2. Average Rating by Genre\n",
        "\n",
        "    Write a function `average_rating_by_genre(books, genre)` that accepts the list of books and a genre, and returns the average rating for that genre. If the genre does not exist in the list, return an appropriate message."
      ],
      "metadata": {
        "id": "2FyU8Q7iqIrD"
      }
    },
    {
      "cell_type": "code",
      "source": [
        "# calculate average rating for a given genre\n",
        "def average_rating_by_genre(books, genre):\n",
        "    # get all ratings for books that match the genre\n",
        "    ratings = [book[\"rating\"] for book in books if book[\"genre\"].lower() == genre.lower()]\n",
        "\n",
        "\n",
        "    # if no books found, return a message\n",
        "    if not ratings:\n",
        "        return f\"no books found in genre '{genre}'.\"\n",
        "\n",
        "    # calculate the average rating and round to 2 decimals\n",
        "    avg = sum(ratings) / len(ratings)\n",
        "    return round(avg, 2)\n",
        "\n",
        "\n",
        "# example usage\n",
        "print(\"average rating for 'Fantasy':\", average_rating_by_genre(books, \"Fantasy\"))\n",
        "print(\"average rating for 'Science Fiction':\", average_rating_by_genre(books, \"Science Fiction\"))"
      ],
      "metadata": {
        "colab": {
          "base_uri": "https://localhost:8080/"
        },
        "id": "Y8eQ6a-WqI4C",
        "outputId": "75e7ebc6-37a8-40a7-f6a4-8b82daf527b0"
      },
      "execution_count": 15,
      "outputs": [
        {
          "output_type": "stream",
          "name": "stdout",
          "text": [
            "average rating for 'Fantasy': 4.9\n",
            "average rating for 'Science Fiction': no books found in genre 'Science Fiction'.\n"
          ]
        }
      ]
    },
    {
      "cell_type": "markdown",
      "source": [
        "3. Books by Author\n",
        "\n",
        "    Write a function `books_by_author(books, author)` that accepts the book list and an author's name, and returns a list of all the books written by that author. If the author does not exist, raise a custom error."
      ],
      "metadata": {
        "id": "Y18z8LYwqLNw"
      }
    },
    {
      "cell_type": "code",
      "source": [
        "# define a custom error for author not found\n",
        "class AuthorNotFoundError(Exception):\n",
        "    pass\n",
        "\n",
        "# function to get all books by a given author\n",
        "def books_by_author(books, author):\n",
        "    # collect titles for the given author\n",
        "    author_books = [book[\"title\"] for book in books if book[\"author\"].lower() == author.lower()]\n",
        "\n",
        " # if no books found, raise custom error\n",
        "    if not author_books:\n",
        "        raise AuthorNotFoundError(f\"no books found for author '{author}'.\")\n",
        "\n",
        "    return author_books\n",
        "\n",
        "# example usage\n",
        "try:\n",
        "    print(books_by_author(books, \"Jane Austen\"))\n",
        "    print(books_by_author(books, \"Isaac Asimov\"))\n",
        "except AuthorNotFoundError as e:\n",
        "    print(e)"
      ],
      "metadata": {
        "colab": {
          "base_uri": "https://localhost:8080/"
        },
        "id": "63crhkrWqLp4",
        "outputId": "fd40f29f-58b3-442d-a7c8-0a0c5c0a3f4b"
      },
      "execution_count": 18,
      "outputs": [
        {
          "output_type": "stream",
          "name": "stdout",
          "text": [
            "['Pride and Prejudice']\n",
            "no books found for author 'Isaac Asimov'.\n"
          ]
        }
      ]
    }
  ]
}